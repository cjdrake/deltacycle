{
 "cells": [
  {
   "cell_type": "markdown",
   "id": "b29494ff",
   "metadata": {},
   "source": [
    "# Bank Renege\n",
    "\n",
    "The following is a copy/rewrite of the \"Bank Renege\" example, by Team SimPy.\n",
    "The purpose is to test similarities/differences with DeltaCycle.\n",
    "See SimPy license for copyright details.\n",
    "\n",
    "Reference:\n",
    "* https://simpy.readthedocs.io/en/latest/about/license.html\n",
    "* https://simpy.readthedocs.io/en/latest/examples/bank_renege.html"
   ]
  },
  {
   "cell_type": "code",
   "execution_count": null,
   "id": "eaa9a31f",
   "metadata": {},
   "outputs": [],
   "source": [
    "import sys\n",
    "from pathlib import Path\n",
    "\n",
    "WORKSPACE = Path(\"..\")\n",
    "\n",
    "sys.path.insert(0, str(WORKSPACE / \"src\"))"
   ]
  },
  {
   "cell_type": "code",
   "execution_count": null,
   "id": "550d82b1",
   "metadata": {},
   "outputs": [],
   "source": [
    "import random\n",
    "\n",
    "from deltacycle import create_task, now, sleep, run\n",
    "from deltacycle import AnyOf, Lock"
   ]
  },
  {
   "cell_type": "code",
   "execution_count": null,
   "id": "37deb470",
   "metadata": {},
   "outputs": [],
   "source": [
    "RANDOM_SEED = 42\n",
    "NEW_CUSTOMERS = 5          # Number of customers\n",
    "INTERVAL_CUSTOMERS = 10.0  # Generate new customers roughly every x seconds\n",
    "MIN_PATIENCE = 1.0         # Min customer patience\n",
    "MAX_PATIENCE = 3.0         # Max customer patience\n",
    "\n",
    "TIME_IN_BANK = 12.0\n",
    "\n",
    "TIMESCALE = 1_000_000.0\n",
    "\n",
    "\n",
    "def tprint(s: str):\n",
    "    print(f\"{now() / TIMESCALE:7.4f} {s}\")\n",
    "\n",
    "\n",
    "async def customer(name: str, counter: Lock):\n",
    "    \"\"\"Customer arrives, is served and leaves.\"\"\"\n",
    "    arrive = now()\n",
    "    tprint(f\"{name}: Here I am\")\n",
    "\n",
    "    patience = random.uniform(MIN_PATIENCE, MAX_PATIENCE)\n",
    "\n",
    "    # Wait for the counter or abort at the end of our tether\n",
    "    timeout = create_task(sleep(round(patience * TIMESCALE)))\n",
    "    y = await AnyOf(counter, timeout)\n",
    "    wait = now() - arrive\n",
    "\n",
    "    if y is counter:\n",
    "        # We got to the counter\n",
    "        tprint(f\"{name}: Waited {wait / TIMESCALE:<7.3f}\")\n",
    "        t = random.expovariate(1.0 / TIME_IN_BANK)\n",
    "        await sleep(round(t * TIMESCALE))\n",
    "        tprint(f\"{name}: Finished\")\n",
    "        assert isinstance(y, Lock)\n",
    "        y.put()\n",
    "    else:\n",
    "        # We reneged\n",
    "        tprint(f\"{name}: RENEGED after {wait / TIMESCALE:<7.3f}\")\n",
    "\n",
    "\n",
    "async def main(n: int, interval: float, counter: Lock):\n",
    "    \"\"\"Generate customers randomly.\"\"\"\n",
    "    for i in range(n):\n",
    "        c = customer(f\"Customer{i:02d}\", counter)\n",
    "        create_task(c)\n",
    "        t = random.expovariate(1.0 / interval)\n",
    "        await sleep(round(t * TIMESCALE))\n",
    "\n",
    "\n",
    "# Setup and start the simulation\n",
    "print(\"Bank Renege\")\n",
    "random.seed(RANDOM_SEED)\n",
    "\n",
    "# Start processes and run\n",
    "counter = Lock()\n",
    "run(main(NEW_CUSTOMERS, INTERVAL_CUSTOMERS, counter))"
   ]
  },
  {
   "cell_type": "markdown",
   "id": "d0bc9ec7",
   "metadata": {},
   "source": [
    "Reference Output:\n",
    "\n",
    "    Bank renege\n",
    "     0.0000 Customer00: Here I am\n",
    "     0.0000 Customer00: Waited  0.000\n",
    "     3.8595 Customer00: Finished\n",
    "    10.2006 Customer01: Here I am\n",
    "    10.2006 Customer01: Waited  0.000\n",
    "    12.7265 Customer02: Here I am\n",
    "    13.9003 Customer02: RENEGED after  1.174\n",
    "    23.7507 Customer01: Finished\n",
    "    34.9993 Customer03: Here I am\n",
    "    34.9993 Customer03: Waited  0.000\n",
    "    37.9599 Customer03: Finished\n",
    "    40.4798 Customer04: Here I am\n",
    "    40.4798 Customer04: Waited  0.000\n",
    "    43.1401 Customer04: Finished"
   ]
  },
  {
   "cell_type": "markdown",
   "id": "bd99d7a3",
   "metadata": {},
   "source": []
  }
 ],
 "metadata": {
  "kernelspec": {
   "display_name": "deltacycle",
   "language": "python",
   "name": "python3"
  },
  "language_info": {
   "codemirror_mode": {
    "name": "ipython",
    "version": 3
   },
   "file_extension": ".py",
   "mimetype": "text/x-python",
   "name": "python",
   "nbconvert_exporter": "python",
   "pygments_lexer": "ipython3",
   "version": "3.13.5"
  }
 },
 "nbformat": 4,
 "nbformat_minor": 5
}
